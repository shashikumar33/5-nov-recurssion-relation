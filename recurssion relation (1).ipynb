{
 "cells": [
  {
   "cell_type": "code",
   "execution_count": 3,
   "id": "db343877-0625-4364-b73a-121bfd25b068",
   "metadata": {},
   "outputs": [],
   "source": [
    "# Q1. Find the val%e of T(2) for the rec%rrence relation T(n) = 3T(n-1) + 12n, given that T(0)=5"
   ]
  },
  {
   "cell_type": "code",
   "execution_count": 8,
   "id": "c72c50d7-bdd2-466b-af05-a9d27343ef07",
   "metadata": {},
   "outputs": [],
   "source": [
    "#solution\n",
    "# (Q.) T(n)=3T(n-1)+12, T(0)=5 (Given) \n",
    "# find T(2)\n",
    "# => T(1)= 3T(1-1)+12*1\n",
    "# => T(1)= 3T(0)+12\n",
    "# => T(1)= 3*5+12 (Given T(o)=5)\n",
    "# => T(1)= 27 ............................(1)\n",
    "\n",
    "# => T(2)=3T(2-1)+12*2\n",
    "# => T(2)=3T(1)+24\n",
    "# => T(2)=3*27+24 (T(1)=27 ...from(1))\n",
    "# => T(2)=105"
   ]
  },
  {
   "cell_type": "code",
   "execution_count": 4,
   "id": "8add99fc-a7c6-43aa-a3f0-032611ac8bc5",
   "metadata": {},
   "outputs": [],
   "source": [
    "# Q2. Given a rec%rrence relation, solve it %sing the s%bstit%tion method:\n",
    "\n",
    "# a. T(n) = T(n-1) + c\n",
    "\n",
    "# b. T(n) = 2T(n/2) + n\n",
    "\n",
    "# c. T(n) = 2T(n/2) + c\n",
    "\n",
    "# d. T(n) = T(n/2) + c"
   ]
  },
  {
   "cell_type": "code",
   "execution_count": 9,
   "id": "a4a1c697-a694-4553-a279-88fe3160ac8e",
   "metadata": {},
   "outputs": [],
   "source": [
    "# a. T(n) = T(n-1)+c.......(1)\n",
    "# => T(n-1)=T(n-2)+c\n",
    "# => T(n)=T(n-2)+2c........(2)\n",
    "# => T(n-2)=T(n-3)+c\n",
    "# => T(n)=T(n-3)+3c........(3)\n",
    "# by compairing (1),(2) and (3) in term of K we get the equation\n",
    "# => T(n-k)+kc......(4)\n",
    "# => n-k=1 (by taking base case as a 1)\n",
    "# => k=n-1\n",
    "# => T(n-(n-1)+(n-1)*c).....(by puting a value of k in equation 4)\n",
    "# => T(1)+(n-1)*c\n",
    "# => 0+nc-c\n",
    "# => c(n)\n",
    "# => Hence the time complexity is O(n) .....(c is constant)"
   ]
  },
  {
   "cell_type": "code",
   "execution_count": 14,
   "id": "78ee85bc-576b-46d6-8272-3815ab3c91c1",
   "metadata": {},
   "outputs": [],
   "source": [
    "# b. T(n) = 2T(n/2) + n.....(1)\n",
    "# => T(n/2)=2T(n/2**2) + n/2\n",
    "# => T(n) = 2(2T(n/2**2) + n/2)+n\n",
    "# => T(n) = 2**2 T(n/2**2)+2n .......(2)\n",
    "# smilarly => T(n)= 2**3 T(n/2**3)+3n.......(3)\n",
    "# by comparing (1),(2)and(3) in term of K we get.....\n",
    "# => 2**k T(n/2**k) + kn.....(4)\n",
    "# => n/2**k=1 (taking base case as a 1)\n",
    "# => n=2**k\n",
    "# => k=log n\n",
    "# => 2 log n (n/2**log n)+kn\n",
    "# => n.1 + n log n\n",
    "# hence the time complexity is O(n log n)"
   ]
  },
  {
   "cell_type": "code",
   "execution_count": 15,
   "id": "8ec579c9-b44d-45d1-a01a-ed5685d52e1d",
   "metadata": {},
   "outputs": [],
   "source": [
    "# c. T(n) = 2T(n/2) + c..........(1)\n",
    "# => T(n/2) = 2 T(n/2**2)+c\n",
    "# => T(n)= 2**2 T(n/2**2)+(2**2-1)*c.....(2)\n",
    "# similarly\n",
    "# => T(n)= 2**3 T(n/2**3)+(2**3-1)*c......(3)\n",
    "# by compairing equation (1),(2) and (3) in term of k we get....\n",
    "# => 2**k T(n/2**k)+(2**k-1)*c.....(4)\n",
    "# => n/2**k=1(taking base case as a 1)\n",
    "# => k=log(base2) n\n",
    "# => by putting a value of k in eq(4) we get...\n",
    "# => (2**log base 2 n -(1))*c\n",
    "# => Hence the time complexity is O(2** log base 2 n)"
   ]
  },
  {
   "cell_type": "code",
   "execution_count": 1,
   "id": "3f54c31b-e497-4faf-bdf0-725a8c6899af",
   "metadata": {},
   "outputs": [],
   "source": [
    "# d. T(n) = T(n/2) + c.......(1)\n",
    "# T(n/2)=T(n/2**2)+c\n",
    "# T(n) = T(n/2**2)+2c.......(2)\n",
    "# Similarly\n",
    "# T(n)=T(n/2**3) + 3c.......(3)\n",
    "# for K times\n",
    "# T(n/2**k)+k*c.......(4)\n",
    "# n/2**k=1(base case is 1)\n",
    "# k=log (base 2) * n\n",
    "# by puting value of k in equation 4 we get\n",
    "# T(n)= 0 + log(base2)*n*c\n",
    "# hence the time complexity is\n",
    "# => O(log(base2)*n)"
   ]
  },
  {
   "cell_type": "code",
   "execution_count": 2,
   "id": "928079fb-a195-4819-8ab4-7cb9d215f372",
   "metadata": {},
   "outputs": [],
   "source": [
    "#3. Given a rec%rrence relation, solve it %sing the rec%rsive tree approach:\n",
    "\n",
    "#a. T(n) = 2T(n-1) +1\n",
    "\n",
    "#b. T(n) = 2T(n/2) + n"
   ]
  },
  {
   "cell_type": "code",
   "execution_count": 3,
   "id": "e8f4d69c-775a-4043-a855-8b0403a60b13",
   "metadata": {},
   "outputs": [],
   "source": [
    "# (a.) T(n) = 2T(n-1) +1\n",
    "# T(n-1)+T(n-1)+1\n",
    "# T(n) divided into 3 parts \n",
    "#  (n-1),(n-1) and (1 is constant)\n",
    "#  similarly it divided another 3 parts\n",
    "#  we get n-k=0\n",
    "#  n=k\n",
    "#  2**0+2**1+2**2.....2**k\n",
    "# this equation is a geometric series\n",
    "# by appling a formula we get\n",
    "# Sr = 1(2**n-1)/1\n",
    "# hence the time complexity is O(2**n)"
   ]
  },
  {
   "cell_type": "code",
   "execution_count": null,
   "id": "c4e07698-16a7-40a7-9723-580e318e91ac",
   "metadata": {},
   "outputs": [],
   "source": [
    "#b. T(n) = 2T(n/2) + n\n",
    "# T(n/2) + T(n/2) + n\n",
    "# (n)......divided into 3 parts T(n/2), T(n/2) and (n)\n",
    "# similarly divided into another 3 parts\n",
    "# we get \n",
    "# L.H.S  n/2**k=0  and  R.H.S  n/2**k=0\n",
    "# n=2**k\n",
    "# k=log(base2) *n\n",
    "# by seeing above equation we get\n",
    "# n+n+n+n+n+n........k times\n",
    "# O(n*k)\n"
   ]
  }
 ],
 "metadata": {
  "kernelspec": {
   "display_name": "Python 3 (ipykernel)",
   "language": "python",
   "name": "python3"
  },
  "language_info": {
   "codemirror_mode": {
    "name": "ipython",
    "version": 3
   },
   "file_extension": ".py",
   "mimetype": "text/x-python",
   "name": "python",
   "nbconvert_exporter": "python",
   "pygments_lexer": "ipython3",
   "version": "3.10.8"
  }
 },
 "nbformat": 4,
 "nbformat_minor": 5
}
